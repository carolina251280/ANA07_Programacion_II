{
 "cells": [
  {
   "cell_type": "code",
   "execution_count": 10,
   "metadata": {},
   "outputs": [],
   "source": [
    "import pandas as pd # Importamos Pandas con el alias de pd  (estandar) para el manejo de datos\n",
    "import numpy as np # Importamos Numpy con el alias de np (estandar) para algebra lineal\n",
    "\n",
    "\n",
    "# Algoritmos empleados\n",
    "# ==============================================================================\n",
    "import sklearn \n",
    "from sklearn import linear_model # Importamos el modelo de Regresión logistica\n",
    "from sklearn.neighbors import KNeighborsClassifier # Importamos el modelo de Vecinos cercanos KNN\n",
    "from sklearn import svm # Importamos el modelo de Maquinas de Soporte Vectorial SVM\n",
    "from sklearn.naive_bayes import GaussianNB # Importamos el modelo de Bayes ingenuo Naives Bayes\n",
    "\n",
    "\n",
    "from sklearn import model_selection # Importamos la libreria de validación de modelos\n",
    "from sklearn.metrics import classification_report # Importamos la libreria de reportes de clasificación\n",
    "from sklearn.model_selection import train_test_split\n",
    "from sklearn.ensemble import RandomForestClassifier\n",
    "from sklearn.metrics import confusion_matrix # Importamos la libreria de matriz de confusión\n",
    "from sklearn.metrics import accuracy_score # Importamos la libreria de precisión del modelo\n",
    "\n",
    "# Gráficos\n",
    "# ==============================================================================\n",
    "import matplotlib\n",
    "import matplotlib.pyplot as plt # Importamos la libreria de gráficos\n",
    "import seaborn as sns # Importamos la libreria de gráficos de seaborn\n",
    "%matplotlib inline "
   ]
  },
  {
   "cell_type": "markdown",
   "metadata": {},
   "source": [
    "### Carga de Datos"
   ]
  },
  {
   "cell_type": "code",
   "execution_count": 2,
   "metadata": {},
   "outputs": [
    {
     "data": {
      "text/html": [
       "<div>\n",
       "<style scoped>\n",
       "    .dataframe tbody tr th:only-of-type {\n",
       "        vertical-align: middle;\n",
       "    }\n",
       "\n",
       "    .dataframe tbody tr th {\n",
       "        vertical-align: top;\n",
       "    }\n",
       "\n",
       "    .dataframe thead th {\n",
       "        text-align: right;\n",
       "    }\n",
       "</style>\n",
       "<table border=\"1\" class=\"dataframe\">\n",
       "  <thead>\n",
       "    <tr style=\"text-align: right;\">\n",
       "      <th></th>\n",
       "      <th>duracion</th>\n",
       "      <th>paginas</th>\n",
       "      <th>acciones</th>\n",
       "      <th>valor</th>\n",
       "      <th>clase</th>\n",
       "    </tr>\n",
       "  </thead>\n",
       "  <tbody>\n",
       "    <tr>\n",
       "      <th>0</th>\n",
       "      <td>7.0</td>\n",
       "      <td>2</td>\n",
       "      <td>4</td>\n",
       "      <td>8</td>\n",
       "      <td>2</td>\n",
       "    </tr>\n",
       "    <tr>\n",
       "      <th>1</th>\n",
       "      <td>21.0</td>\n",
       "      <td>2</td>\n",
       "      <td>6</td>\n",
       "      <td>6</td>\n",
       "      <td>2</td>\n",
       "    </tr>\n",
       "    <tr>\n",
       "      <th>2</th>\n",
       "      <td>57.0</td>\n",
       "      <td>2</td>\n",
       "      <td>4</td>\n",
       "      <td>4</td>\n",
       "      <td>2</td>\n",
       "    </tr>\n",
       "    <tr>\n",
       "      <th>3</th>\n",
       "      <td>101.0</td>\n",
       "      <td>3</td>\n",
       "      <td>6</td>\n",
       "      <td>12</td>\n",
       "      <td>2</td>\n",
       "    </tr>\n",
       "    <tr>\n",
       "      <th>4</th>\n",
       "      <td>109.0</td>\n",
       "      <td>2</td>\n",
       "      <td>6</td>\n",
       "      <td>12</td>\n",
       "      <td>2</td>\n",
       "    </tr>\n",
       "  </tbody>\n",
       "</table>\n",
       "</div>"
      ],
      "text/plain": [
       "   duracion  paginas  acciones  valor  clase\n",
       "0       7.0        2         4      8      2\n",
       "1      21.0        2         6      6      2\n",
       "2      57.0        2         4      4      2\n",
       "3     101.0        3         6     12      2\n",
       "4     109.0        2         6     12      2"
      ]
     },
     "execution_count": 2,
     "metadata": {},
     "output_type": "execute_result"
    }
   ],
   "source": [
    "df = pd.read_csv(\"usuarios_win_mac_lin.csv\")\n",
    "df.head()\n"
   ]
  },
  {
   "cell_type": "code",
   "execution_count": 3,
   "metadata": {},
   "outputs": [
    {
     "name": "stdout",
     "output_type": "stream",
     "text": [
      "<class 'pandas.core.frame.DataFrame'>\n",
      "RangeIndex: 170 entries, 0 to 169\n",
      "Data columns (total 5 columns):\n",
      " #   Column    Non-Null Count  Dtype  \n",
      "---  ------    --------------  -----  \n",
      " 0   duracion  170 non-null    float64\n",
      " 1   paginas   170 non-null    int64  \n",
      " 2   acciones  170 non-null    int64  \n",
      " 3   valor     170 non-null    int64  \n",
      " 4   clase     170 non-null    int64  \n",
      "dtypes: float64(1), int64(4)\n",
      "memory usage: 6.8 KB\n"
     ]
    }
   ],
   "source": [
    "df.info()"
   ]
  },
  {
   "cell_type": "markdown",
   "metadata": {},
   "source": [
    "#### Estadísticas"
   ]
  },
  {
   "cell_type": "code",
   "execution_count": 4,
   "metadata": {},
   "outputs": [
    {
     "data": {
      "text/html": [
       "<div>\n",
       "<style scoped>\n",
       "    .dataframe tbody tr th:only-of-type {\n",
       "        vertical-align: middle;\n",
       "    }\n",
       "\n",
       "    .dataframe tbody tr th {\n",
       "        vertical-align: top;\n",
       "    }\n",
       "\n",
       "    .dataframe thead th {\n",
       "        text-align: right;\n",
       "    }\n",
       "</style>\n",
       "<table border=\"1\" class=\"dataframe\">\n",
       "  <thead>\n",
       "    <tr style=\"text-align: right;\">\n",
       "      <th></th>\n",
       "      <th>duracion</th>\n",
       "      <th>paginas</th>\n",
       "      <th>acciones</th>\n",
       "      <th>valor</th>\n",
       "      <th>clase</th>\n",
       "    </tr>\n",
       "  </thead>\n",
       "  <tbody>\n",
       "    <tr>\n",
       "      <th>count</th>\n",
       "      <td>170.000000</td>\n",
       "      <td>170.000000</td>\n",
       "      <td>170.000000</td>\n",
       "      <td>170.000000</td>\n",
       "      <td>170.000000</td>\n",
       "    </tr>\n",
       "    <tr>\n",
       "      <th>mean</th>\n",
       "      <td>111.075729</td>\n",
       "      <td>2.041176</td>\n",
       "      <td>8.723529</td>\n",
       "      <td>32.676471</td>\n",
       "      <td>0.752941</td>\n",
       "    </tr>\n",
       "    <tr>\n",
       "      <th>std</th>\n",
       "      <td>202.453200</td>\n",
       "      <td>1.500911</td>\n",
       "      <td>9.136054</td>\n",
       "      <td>44.751993</td>\n",
       "      <td>0.841327</td>\n",
       "    </tr>\n",
       "    <tr>\n",
       "      <th>min</th>\n",
       "      <td>1.000000</td>\n",
       "      <td>1.000000</td>\n",
       "      <td>1.000000</td>\n",
       "      <td>1.000000</td>\n",
       "      <td>0.000000</td>\n",
       "    </tr>\n",
       "    <tr>\n",
       "      <th>25%</th>\n",
       "      <td>11.000000</td>\n",
       "      <td>1.000000</td>\n",
       "      <td>3.000000</td>\n",
       "      <td>8.000000</td>\n",
       "      <td>0.000000</td>\n",
       "    </tr>\n",
       "    <tr>\n",
       "      <th>50%</th>\n",
       "      <td>13.000000</td>\n",
       "      <td>2.000000</td>\n",
       "      <td>6.000000</td>\n",
       "      <td>20.000000</td>\n",
       "      <td>0.000000</td>\n",
       "    </tr>\n",
       "    <tr>\n",
       "      <th>75%</th>\n",
       "      <td>108.000000</td>\n",
       "      <td>2.000000</td>\n",
       "      <td>10.000000</td>\n",
       "      <td>36.000000</td>\n",
       "      <td>2.000000</td>\n",
       "    </tr>\n",
       "    <tr>\n",
       "      <th>max</th>\n",
       "      <td>898.000000</td>\n",
       "      <td>9.000000</td>\n",
       "      <td>63.000000</td>\n",
       "      <td>378.000000</td>\n",
       "      <td>2.000000</td>\n",
       "    </tr>\n",
       "  </tbody>\n",
       "</table>\n",
       "</div>"
      ],
      "text/plain": [
       "         duracion     paginas    acciones       valor       clase\n",
       "count  170.000000  170.000000  170.000000  170.000000  170.000000\n",
       "mean   111.075729    2.041176    8.723529   32.676471    0.752941\n",
       "std    202.453200    1.500911    9.136054   44.751993    0.841327\n",
       "min      1.000000    1.000000    1.000000    1.000000    0.000000\n",
       "25%     11.000000    1.000000    3.000000    8.000000    0.000000\n",
       "50%     13.000000    2.000000    6.000000   20.000000    0.000000\n",
       "75%    108.000000    2.000000   10.000000   36.000000    2.000000\n",
       "max    898.000000    9.000000   63.000000  378.000000    2.000000"
      ]
     },
     "execution_count": 4,
     "metadata": {},
     "output_type": "execute_result"
    }
   ],
   "source": [
    "df.describe()"
   ]
  },
  {
   "cell_type": "markdown",
   "metadata": {},
   "source": [
    "#### Correlación entre variables"
   ]
  },
  {
   "cell_type": "code",
   "execution_count": 5,
   "metadata": {},
   "outputs": [
    {
     "data": {
      "text/html": [
       "<div>\n",
       "<style scoped>\n",
       "    .dataframe tbody tr th:only-of-type {\n",
       "        vertical-align: middle;\n",
       "    }\n",
       "\n",
       "    .dataframe tbody tr th {\n",
       "        vertical-align: top;\n",
       "    }\n",
       "\n",
       "    .dataframe thead th {\n",
       "        text-align: right;\n",
       "    }\n",
       "</style>\n",
       "<table border=\"1\" class=\"dataframe\">\n",
       "  <thead>\n",
       "    <tr style=\"text-align: right;\">\n",
       "      <th></th>\n",
       "      <th>duracion</th>\n",
       "      <th>paginas</th>\n",
       "      <th>acciones</th>\n",
       "      <th>valor</th>\n",
       "      <th>clase</th>\n",
       "    </tr>\n",
       "  </thead>\n",
       "  <tbody>\n",
       "    <tr>\n",
       "      <th>duracion</th>\n",
       "      <td>1.000000</td>\n",
       "      <td>0.277550</td>\n",
       "      <td>0.163028</td>\n",
       "      <td>0.090869</td>\n",
       "      <td>0.128706</td>\n",
       "    </tr>\n",
       "    <tr>\n",
       "      <th>paginas</th>\n",
       "      <td>0.277550</td>\n",
       "      <td>1.000000</td>\n",
       "      <td>0.724061</td>\n",
       "      <td>0.583910</td>\n",
       "      <td>-0.052813</td>\n",
       "    </tr>\n",
       "    <tr>\n",
       "      <th>acciones</th>\n",
       "      <td>0.163028</td>\n",
       "      <td>0.724061</td>\n",
       "      <td>1.000000</td>\n",
       "      <td>0.862961</td>\n",
       "      <td>-0.329954</td>\n",
       "    </tr>\n",
       "    <tr>\n",
       "      <th>valor</th>\n",
       "      <td>0.090869</td>\n",
       "      <td>0.583910</td>\n",
       "      <td>0.862961</td>\n",
       "      <td>1.000000</td>\n",
       "      <td>-0.322737</td>\n",
       "    </tr>\n",
       "    <tr>\n",
       "      <th>clase</th>\n",
       "      <td>0.128706</td>\n",
       "      <td>-0.052813</td>\n",
       "      <td>-0.329954</td>\n",
       "      <td>-0.322737</td>\n",
       "      <td>1.000000</td>\n",
       "    </tr>\n",
       "  </tbody>\n",
       "</table>\n",
       "</div>"
      ],
      "text/plain": [
       "          duracion   paginas  acciones     valor     clase\n",
       "duracion  1.000000  0.277550  0.163028  0.090869  0.128706\n",
       "paginas   0.277550  1.000000  0.724061  0.583910 -0.052813\n",
       "acciones  0.163028  0.724061  1.000000  0.862961 -0.329954\n",
       "valor     0.090869  0.583910  0.862961  1.000000 -0.322737\n",
       "clase     0.128706 -0.052813 -0.329954 -0.322737  1.000000"
      ]
     },
     "execution_count": 5,
     "metadata": {},
     "output_type": "execute_result"
    }
   ],
   "source": [
    "corr_matrix = df.corr(method='pearson') # Calculamos la matriz de correlación de Pearson\n",
    "corr_matrix\n"
   ]
  },
  {
   "cell_type": "code",
   "execution_count": 6,
   "metadata": {},
   "outputs": [
    {
     "data": {
      "image/png": "[encoded data removed]",
      "text/plain": [
       "<Figure size 640x480 with 1 Axes>"
      ]
     },
     "metadata": {},
     "output_type": "display_data"
    }
   ],
   "source": [
    "sns.set(font_scale=1.5) # Establecer el tamaño de la fuente\n",
    "sns.heatmap(\n",
    "    corr_matrix, xticklabels='auto', yticklabels='auto', cmap='coolwarm', annot=True, fmt='.2f', # Crear mapa de calor\n",
    "    cbar=False, # No mostrar barra de color\n",
    "    square=True, # Ajustar celdas a cuadradas\n",
    "    annot_kws={'size': 7}, # Tamaño de los valores\n",
    "    linewidth=.5, # Ancho de las líneas entre celdas\n",
    ")\n",
    "\n",
    "# Muestra el gráfico\n",
    "plt.show() "
   ]
  },
  {
   "cell_type": "code",
   "execution_count": 7,
   "metadata": {},
   "outputs": [
    {
     "data": {
      "text/html": [
       "<div>\n",
       "<style scoped>\n",
       "    .dataframe tbody tr th:only-of-type {\n",
       "        vertical-align: middle;\n",
       "    }\n",
       "\n",
       "    .dataframe tbody tr th {\n",
       "        vertical-align: top;\n",
       "    }\n",
       "\n",
       "    .dataframe thead th {\n",
       "        text-align: right;\n",
       "    }\n",
       "</style>\n",
       "<table border=\"1\" class=\"dataframe\">\n",
       "  <thead>\n",
       "    <tr style=\"text-align: right;\">\n",
       "      <th></th>\n",
       "      <th>duracion</th>\n",
       "      <th>paginas</th>\n",
       "      <th>acciones</th>\n",
       "      <th>valor</th>\n",
       "      <th>clase</th>\n",
       "    </tr>\n",
       "  </thead>\n",
       "  <tbody>\n",
       "    <tr>\n",
       "      <th>0</th>\n",
       "      <td>7.0</td>\n",
       "      <td>2</td>\n",
       "      <td>4</td>\n",
       "      <td>8</td>\n",
       "      <td>2</td>\n",
       "    </tr>\n",
       "    <tr>\n",
       "      <th>1</th>\n",
       "      <td>21.0</td>\n",
       "      <td>2</td>\n",
       "      <td>6</td>\n",
       "      <td>6</td>\n",
       "      <td>2</td>\n",
       "    </tr>\n",
       "    <tr>\n",
       "      <th>2</th>\n",
       "      <td>57.0</td>\n",
       "      <td>2</td>\n",
       "      <td>4</td>\n",
       "      <td>4</td>\n",
       "      <td>2</td>\n",
       "    </tr>\n",
       "    <tr>\n",
       "      <th>3</th>\n",
       "      <td>101.0</td>\n",
       "      <td>3</td>\n",
       "      <td>6</td>\n",
       "      <td>12</td>\n",
       "      <td>2</td>\n",
       "    </tr>\n",
       "    <tr>\n",
       "      <th>4</th>\n",
       "      <td>109.0</td>\n",
       "      <td>2</td>\n",
       "      <td>6</td>\n",
       "      <td>12</td>\n",
       "      <td>2</td>\n",
       "    </tr>\n",
       "    <tr>\n",
       "      <th>...</th>\n",
       "      <td>...</td>\n",
       "      <td>...</td>\n",
       "      <td>...</td>\n",
       "      <td>...</td>\n",
       "      <td>...</td>\n",
       "    </tr>\n",
       "    <tr>\n",
       "      <th>165</th>\n",
       "      <td>13.0</td>\n",
       "      <td>1</td>\n",
       "      <td>7</td>\n",
       "      <td>42</td>\n",
       "      <td>0</td>\n",
       "    </tr>\n",
       "    <tr>\n",
       "      <th>166</th>\n",
       "      <td>12.0</td>\n",
       "      <td>1</td>\n",
       "      <td>2</td>\n",
       "      <td>6</td>\n",
       "      <td>0</td>\n",
       "    </tr>\n",
       "    <tr>\n",
       "      <th>167</th>\n",
       "      <td>13.0</td>\n",
       "      <td>1</td>\n",
       "      <td>3</td>\n",
       "      <td>9</td>\n",
       "      <td>0</td>\n",
       "    </tr>\n",
       "    <tr>\n",
       "      <th>168</th>\n",
       "      <td>13.0</td>\n",
       "      <td>1</td>\n",
       "      <td>7</td>\n",
       "      <td>28</td>\n",
       "      <td>0</td>\n",
       "    </tr>\n",
       "    <tr>\n",
       "      <th>169</th>\n",
       "      <td>12.0</td>\n",
       "      <td>1</td>\n",
       "      <td>6</td>\n",
       "      <td>18</td>\n",
       "      <td>0</td>\n",
       "    </tr>\n",
       "  </tbody>\n",
       "</table>\n",
       "<p>170 rows × 5 columns</p>\n",
       "</div>"
      ],
      "text/plain": [
       "     duracion  paginas  acciones  valor  clase\n",
       "0         7.0        2         4      8      2\n",
       "1        21.0        2         6      6      2\n",
       "2        57.0        2         4      4      2\n",
       "3       101.0        3         6     12      2\n",
       "4       109.0        2         6     12      2\n",
       "..        ...      ...       ...    ...    ...\n",
       "165      13.0        1         7     42      0\n",
       "166      12.0        1         2      6      0\n",
       "167      13.0        1         3      9      0\n",
       "168      13.0        1         7     28      0\n",
       "169      12.0        1         6     18      0\n",
       "\n",
       "[170 rows x 5 columns]"
      ]
     },
     "execution_count": 7,
     "metadata": {},
     "output_type": "execute_result"
    }
   ],
   "source": [
    "df"
   ]
  },
  {
   "cell_type": "markdown",
   "metadata": {},
   "source": [
    "### División entrenamiento-test"
   ]
  },
  {
   "cell_type": "code",
   "execution_count": 19,
   "metadata": {},
   "outputs": [],
   "source": [
    "X = df.drop('clase', axis=1)\n",
    "y = df['clase']\n"
   ]
  },
  {
   "cell_type": "code",
   "execution_count": 21,
   "metadata": {},
   "outputs": [
    {
     "name": "stdout",
     "output_type": "stream",
     "text": [
      "Variables independientes:      duracion  paginas  acciones  valor\n",
      "0         7.0        2         4      8\n",
      "1        21.0        2         6      6\n",
      "2        57.0        2         4      4\n",
      "3       101.0        3         6     12\n",
      "4       109.0        2         6     12\n",
      "..        ...      ...       ...    ...\n",
      "165      13.0        1         7     42\n",
      "166      12.0        1         2      6\n",
      "167      13.0        1         3      9\n",
      "168      13.0        1         7     28\n",
      "169      12.0        1         6     18\n",
      "\n",
      "[170 rows x 4 columns]\n",
      "\n",
      "Variable dependiente: 0      2\n",
      "1      2\n",
      "2      2\n",
      "3      2\n",
      "4      2\n",
      "      ..\n",
      "165    0\n",
      "166    0\n",
      "167    0\n",
      "168    0\n",
      "169    0\n",
      "Name: clase, Length: 170, dtype: int64\n"
     ]
    }
   ],
   "source": [
    "print(\"Variables independientes:\", X) \n",
    "print(\"\\nVariable dependiente:\", y)"
   ]
  },
  {
   "cell_type": "code",
   "execution_count": 22,
   "metadata": {},
   "outputs": [],
   "source": [
    "X_train, X_test, y_train, y_test = train_test_split(X, y, test_size=0.25, random_state=0)\n"
   ]
  },
  {
   "cell_type": "code",
   "execution_count": 23,
   "metadata": {},
   "outputs": [],
   "source": [
    "from sklearn.preprocessing import StandardScaler \n",
    "sc = StandardScaler() \n",
    "X_train = sc.fit_transform(X_train) \n",
    "X_test = sc.transform(X_test)"
   ]
  },
  {
   "cell_type": "code",
   "execution_count": 24,
   "metadata": {},
   "outputs": [
    {
     "name": "stdout",
     "output_type": "stream",
     "text": [
      "\n",
      "X Entrenamiento: [[-4.92063877e-01 -7.10559205e-01 -7.28997052e-01 -6.65383548e-01]\n",
      " [-3.19624697e-01 -6.59804976e-02 -1.25852911e-01 -5.08111073e-02]\n",
      " [-4.87403358e-01 -7.10559205e-01 -2.26376935e-01  1.06461368e-02]\n",
      " [ 2.28560506e+00  5.78598210e-01  2.08567560e+00  5.22789837e-01]\n",
      " [-4.96724395e-01 -7.10559205e-01 -2.26376935e-01 -1.32754099e-01]\n",
      " [-5.38244953e-01  1.86775563e+00 -4.27424982e-01 -6.03926304e-01]\n",
      " [-4.87403358e-01 -7.10559205e-01 -6.28473029e-01 -5.21983312e-01]\n",
      " [-4.87403358e-01 -7.10559205e-01 -7.28997052e-01 -6.24412052e-01]\n",
      " [-4.96724395e-01 -6.59804976e-02  7.51951357e-02  1.13074877e-01]\n",
      " [ 9.38715259e-01 -7.10559205e-01 -2.26376935e-01 -1.32754099e-01]\n",
      " [ 1.27785065e-01 -6.59804976e-02  7.51951357e-02 -9.17826034e-02]\n",
      " [-4.96724395e-01 -7.10559205e-01 -6.28473029e-01 -5.83440556e-01]\n",
      " [-5.41348858e-01  1.22317692e+00  1.88462756e+00  4.40846845e-01]\n",
      " [-4.92063877e-01 -7.10559205e-01 -6.28473029e-01 -6.44897800e-01]\n",
      " [-4.78082321e-01 -6.59804976e-02 -7.28997052e-01 -6.24412052e-01]\n",
      " [-4.92063877e-01 -7.10559205e-01 -6.28473029e-01 -6.44897800e-01]\n",
      " [ 6.49763121e-01 -6.59804976e-02  2.76243183e-01  2.76960861e-01]\n",
      " [-4.92063877e-01 -7.10559205e-01 -6.28473029e-01 -3.37611580e-01]\n",
      " [-4.96724395e-01 -7.10559205e-01 -1.25852911e-01  2.76960861e-01]\n",
      " [-4.92063877e-01 -7.10559205e-01 -6.28473029e-01 -5.83440556e-01]\n",
      " [-4.92063877e-01 -7.10559205e-01 -7.28997052e-01 -6.65383548e-01]\n",
      " [-4.96724395e-01 -7.10559205e-01 -7.28997052e-01 -5.83440556e-01]\n",
      " [-4.78082321e-01 -6.59804976e-02  1.08043537e+00  5.22789837e-01]\n",
      " [-1.42525000e-01  5.78598210e-01 -2.53288878e-02  3.11318848e-02]\n",
      " [-2.82340551e-01 -6.59804976e-02 -5.27949005e-01 -6.24412052e-01]\n",
      " [-2.31074849e-01  4.44607046e+00  5.40296838e+00  7.03725771e+00]\n",
      " [-5.43031305e-01  1.86775563e+00  1.08043537e+00  9.32504798e-01]\n",
      " [-4.96724395e-01 -7.10559205e-01 -3.26900958e-01 -2.14697092e-01]\n",
      " [-1.33203963e-01  5.78598210e-01  8.79387323e-01  2.24359267e+00]\n",
      " [ 6.91707786e-01 -6.59804976e-02 -3.26900958e-01 -4.60526068e-01]\n",
      " [-4.92063877e-01 -7.10559205e-01 -2.26376935e-01  1.54046373e-01]\n",
      " [ 2.17375262e+00 -6.59804976e-02  7.51951357e-02 -9.17826034e-02]\n",
      " [-4.87403358e-01 -7.10559205e-01 -5.27949005e-01 -5.42469060e-01]\n",
      " [-4.87403358e-01 -7.10559205e-01 -3.26900958e-01 -3.37611580e-01]\n",
      " [-4.92063877e-01 -7.10559205e-01 -3.26900958e-01 -2.14697092e-01]\n",
      " [-5.43031305e-01  1.86775563e+00  1.58305549e+00  1.34221976e+00]\n",
      " [-4.92063877e-01 -7.10559205e-01  7.51951357e-02 -2.96640084e-01]\n",
      " [-4.96724395e-01 -7.10559205e-01 -2.26376935e-01  1.06461368e-02]\n",
      " [-5.38669060e-01 -6.59804976e-02  1.08043537e+00  1.75193472e+00]\n",
      " [-4.92063877e-01 -7.10559205e-01 -8.29521075e-01 -6.85869296e-01]\n",
      " [-4.92063877e-01 -7.10559205e-01 -8.29521075e-01 -6.24412052e-01]\n",
      " [-7.36996758e-03 -6.59804976e-02  6.78339276e-01  6.04732830e-01]\n",
      " [-4.92063877e-01 -7.10559205e-01 -6.28473029e-01 -6.44897800e-01]\n",
      " [-4.96724395e-01 -7.10559205e-01 -6.28473029e-01 -6.44897800e-01]\n",
      " [ 8.17541781e-01  1.22317692e+00 -1.25852911e-01 -2.14697092e-01]\n",
      " [-5.43329578e-01 -6.59804976e-02  8.79387323e-01  3.11318848e-02]\n",
      " [-5.41959386e-01 -6.59804976e-02 -3.26900958e-01 -3.37611580e-01]\n",
      " [-5.33612398e-01  3.15691304e+00  4.69930021e+00  1.58804873e+00]\n",
      " [ 3.17110355e+00  1.86775563e+00  5.77815253e-01 -3.99068824e-01]\n",
      " [-4.96724395e-01 -7.10559205e-01 -8.29521075e-01 -6.65383548e-01]\n",
      " [ 1.60408693e-01 -6.59804976e-02 -5.27949005e-01 -2.96640084e-01]\n",
      " [-4.87403358e-01 -7.10559205e-01 -8.29521075e-01 -6.85869296e-01]\n",
      " [-2.03111738e-01 -6.59804976e-02 -3.26900958e-01 -3.37611580e-01]\n",
      " [-5.42840224e-01 -6.59804976e-02 -5.27949005e-01 -5.42469060e-01]\n",
      " [-5.42541951e-01  1.22317692e+00  2.76243183e-01 -2.14697092e-01]\n",
      " [-5.01384913e-01 -6.59804976e-02  8.79387323e-01  3.99875349e-01]\n",
      " [ 2.47668632e+00 -6.59804976e-02 -7.28997052e-01 -4.60526068e-01]\n",
      " [-7.72777429e-02  5.78598210e-01 -3.26900958e-01 -4.60526068e-01]\n",
      " [-4.92063877e-01 -7.10559205e-01 -3.26900958e-01 -3.37611580e-01]\n",
      " [-4.92063877e-01 -7.10559205e-01 -6.28473029e-01 -4.60526068e-01]\n",
      " [ 7.18588445e-02 -6.59804976e-02 -7.28997052e-01 -6.24412052e-01]\n",
      " [ 5.23929125e-01 -6.59804976e-02  2.76243183e-01  5.22789837e-01]\n",
      " [ 2.44872321e+00  1.22317692e+00  1.88462756e+00  2.73525062e+00]\n",
      " [-5.35430000e-01  4.44607046e+00  8.79387323e-01  3.11318848e-02]\n",
      " [-4.87403358e-01 -7.10559205e-01 -5.27949005e-01 -2.14697092e-01]\n",
      " [ 2.02927655e+00  1.22317692e+00  2.76243183e-01 -2.14697092e-01]\n",
      " [-4.92063877e-01 -7.10559205e-01 -5.27949005e-01 -3.78583076e-01]\n",
      " [-4.87403358e-01 -7.10559205e-01 -8.29521075e-01 -6.44897800e-01]\n",
      " [ 3.51598191e+00 -6.59804976e-02 -3.26900958e-01 -5.83440556e-01]\n",
      " [-5.15366468e-01 -6.59804976e-02 -5.27949005e-01 -5.42469060e-01]\n",
      " [-4.12835064e-01 -6.59804976e-02  6.78339276e-01  6.04732830e-01]\n",
      " [-4.87403358e-01 -7.10559205e-01 -1.25852911e-01 -2.14697092e-01]\n",
      " [ 2.59319927e+00  5.78598210e-01  8.79387323e-01  7.68618814e-01]\n",
      " [ 1.01328355e+00  1.22317692e+00  2.76243183e-01 -2.14697092e-01]\n",
      " [-4.87403358e-01 -7.10559205e-01 -3.26900958e-01  3.11318848e-02]\n",
      " [-5.38669060e-01 -6.59804976e-02 -7.28997052e-01 -6.65383548e-01]\n",
      " [-3.14964179e-01 -6.59804976e-02  8.79387323e-01  3.99875349e-01]\n",
      " [-4.03514028e-01 -6.59804976e-02 -3.26900958e-01 -9.17826034e-02]\n",
      " [-4.92063877e-01 -7.10559205e-01 -7.28997052e-01 -5.83440556e-01]\n",
      " [-2.70944923e-03  1.86775563e+00  3.09091584e+00  4.21022448e+00]\n",
      " [-4.50119211e-01 -6.59804976e-02 -3.26900958e-01 -5.83440556e-01]\n",
      " [-4.96724395e-01 -7.10559205e-01 -6.28473029e-01 -5.83440556e-01]\n",
      " [-4.96724395e-01 -7.10559205e-01 -7.28997052e-01 -5.42469060e-01]\n",
      " [-4.92063877e-01 -7.10559205e-01 -1.25852911e-01 -2.14697092e-01]\n",
      " [-3.10303661e-01 -6.59804976e-02 -5.27949005e-01 -2.96640084e-01]\n",
      " [-4.87403358e-01 -7.10559205e-01 -6.28473029e-01 -3.37611580e-01]\n",
      " [-4.96724395e-01 -7.10559205e-01 -4.27424982e-01 -3.99068824e-01]\n",
      " [-4.50119211e-01 -6.59804976e-02 -5.27949005e-01 -4.60526068e-01]\n",
      " [ 3.63715539e+00 -6.59804976e-02 -7.28997052e-01 -6.65383548e-01]\n",
      " [-4.92063877e-01 -6.59804976e-02  1.08043537e+00  1.13074877e-01]\n",
      " [-4.96724395e-01 -7.10559205e-01  7.51951357e-02 -9.17826034e-02]\n",
      " [-4.92063877e-01 -7.10559205e-01 -8.29521075e-01 -6.85869296e-01]\n",
      " [ 3.40412947e+00  5.78598210e-01  8.79387323e-01  3.99875349e-01]\n",
      " [ 6.91707786e-01 -6.59804976e-02 -5.27949005e-01 -4.60526068e-01]\n",
      " [-4.96724395e-01 -7.10559205e-01 -6.28473029e-01 -5.83440556e-01]\n",
      " [ 1.65643509e+00  5.78598210e-01 -3.26900958e-01 -9.17826034e-02]\n",
      " [-4.96724395e-01 -7.10559205e-01 -7.28997052e-01 -5.83440556e-01]\n",
      " [-4.96724395e-01 -7.10559205e-01 -6.28473029e-01 -6.44897800e-01]\n",
      " [-4.96724395e-01 -7.10559205e-01 -6.28473029e-01 -4.60526068e-01]\n",
      " [ 1.71236131e+00 -6.59804976e-02 -3.26900958e-01 -9.17826034e-02]\n",
      " [-4.96724395e-01 -7.10559205e-01 -1.25852911e-01 -5.08111073e-02]\n",
      " [ 7.33652451e-01  1.22317692e+00  1.48253146e+00  2.24359267e+00]\n",
      " [-4.87403358e-01 -7.10559205e-01 -5.27949005e-01 -4.60526068e-01]\n",
      " [-5.40579873e-01  1.22317692e+00  2.28672365e+00  2.57136464e+00]\n",
      " [-5.42005991e-01  1.22317692e+00  6.78339276e-01  2.76960861e-01]\n",
      " [-4.92063877e-01 -7.10559205e-01 -6.28473029e-01 -5.83440556e-01]\n",
      " [-4.87403358e-01 -7.10559205e-01 -4.27424982e-01 -1.94211343e-01]\n",
      " [-4.87403358e-01 -7.10559205e-01 -2.26376935e-01  1.54046373e-01]\n",
      " [ 1.92208463e+00  5.78598210e-01  2.76243183e-01 -2.14697092e-01]\n",
      " [ 3.10119578e+00  1.22317692e+00  1.08043537e+00  9.32504798e-01]\n",
      " [ 4.72663423e-01  5.78598210e-01 -2.53288878e-02  3.99875349e-01]\n",
      " [-5.41101851e-01  2.51233433e+00  2.08567560e+00  1.13736228e+00]\n",
      " [-4.96724395e-01 -7.10559205e-01 -6.28473029e-01 -3.99068824e-01]\n",
      " [-4.92063877e-01 -7.10559205e-01 -5.27949005e-01 -2.14697092e-01]\n",
      " [-5.41460711e-01  2.51233433e+00 -3.26900958e-01 -5.83440556e-01]\n",
      " [-2.96322106e-01 -7.10559205e-01 -4.27424982e-01 -3.99068824e-01]\n",
      " [-4.96724395e-01 -7.10559205e-01 -7.28997052e-01 -5.01497564e-01]\n",
      " [-4.08174546e-01 -6.59804976e-02 -3.26900958e-01 -3.37611580e-01]\n",
      " [ 8.68807483e-01 -6.59804976e-02  8.79387323e-01  3.99875349e-01]\n",
      " [-4.12835064e-01 -6.59804976e-02 -7.28997052e-01 -4.60526068e-01]\n",
      " [-5.06045432e-01 -7.10559205e-01 -8.29521075e-01 -6.85869296e-01]\n",
      " [-1.14561890e-01 -6.59804976e-02  2.76243183e-01  1.26027677e+00]\n",
      " [ 4.63342386e-01 -6.59804976e-02 -3.26900958e-01 -5.83440556e-01]\n",
      " [-4.87403358e-01 -7.10559205e-01 -4.27424982e-01 -2.96640084e-01]\n",
      " [ 3.60810982e-01 -6.59804976e-02 -7.28997052e-01 -4.60526068e-01]\n",
      " [-4.92063877e-01 -7.10559205e-01 -7.28997052e-01 -6.24412052e-01]\n",
      " [-5.42919453e-01 -6.59804976e-02 -1.25852911e-01  6.04732830e-01]]\n",
      "\n",
      "y test: 133    0\n",
      "136    0\n",
      "168    0\n",
      "54     0\n",
      "56     0\n",
      "144    0\n",
      "7      2\n",
      "96     1\n",
      "121    2\n",
      "97     2\n",
      "141    0\n",
      "5      2\n",
      "83     0\n",
      "109    1\n",
      "55     0\n",
      "18     1\n",
      "61     0\n",
      "101    1\n",
      "60     0\n",
      "63     0\n",
      "153    0\n",
      "4      2\n",
      "106    1\n",
      "161    0\n",
      "108    1\n",
      "37     2\n",
      "66     0\n",
      "157    0\n",
      "45     1\n",
      "26     1\n",
      "33     1\n",
      "125    2\n",
      "44     1\n",
      "8      2\n",
      "119    2\n",
      "92     0\n",
      "98     1\n",
      "152    0\n",
      "155    0\n",
      "24     1\n",
      "30     1\n",
      "113    2\n",
      "51     0\n",
      "Name: clase, dtype: int64\n"
     ]
    }
   ],
   "source": [
    "print(\"\\nX Entrenamiento:\",X_train) \n",
    "print(\"\\ny test:\",y_test)"
   ]
  },
  {
   "cell_type": "markdown",
   "metadata": {},
   "source": [
    "### Bosques aleatorios (Random Forest)"
   ]
  },
  {
   "cell_type": "code",
   "execution_count": 25,
   "metadata": {},
   "outputs": [
    {
     "data": {
      "text/html": [
       "<style>#sk-container-id-2 {color: black;}#sk-container-id-2 pre{padding: 0;}#sk-container-id-2 div.sk-toggleable {background-color: white;}#sk-container-id-2 label.sk-toggleable__label {cursor: pointer;display: block;width: 100%;margin-bottom: 0;padding: 0.3em;box-sizing: border-box;text-align: center;}#sk-container-id-2 label.sk-toggleable__label-arrow:before {content: \"▸\";float: left;margin-right: 0.25em;color: #696969;}#sk-container-id-2 label.sk-toggleable__label-arrow:hover:before {color: black;}#sk-container-id-2 div.sk-estimator:hover label.sk-toggleable__label-arrow:before {color: black;}#sk-container-id-2 div.sk-toggleable__content {max-height: 0;max-width: 0;overflow: hidden;text-align: left;background-color: #f0f8ff;}#sk-container-id-2 div.sk-toggleable__content pre {margin: 0.2em;color: black;border-radius: 0.25em;background-color: #f0f8ff;}#sk-container-id-2 input.sk-toggleable__control:checked~div.sk-toggleable__content {max-height: 200px;max-width: 100%;overflow: auto;}#sk-container-id-2 input.sk-toggleable__control:checked~label.sk-toggleable__label-arrow:before {content: \"▾\";}#sk-container-id-2 div.sk-estimator input.sk-toggleable__control:checked~label.sk-toggleable__label {background-color: #d4ebff;}#sk-container-id-2 div.sk-label input.sk-toggleable__control:checked~label.sk-toggleable__label {background-color: #d4ebff;}#sk-container-id-2 input.sk-hidden--visually {border: 0;clip: rect(1px 1px 1px 1px);clip: rect(1px, 1px, 1px, 1px);height: 1px;margin: -1px;overflow: hidden;padding: 0;position: absolute;width: 1px;}#sk-container-id-2 div.sk-estimator {font-family: monospace;background-color: #f0f8ff;border: 1px dotted black;border-radius: 0.25em;box-sizing: border-box;margin-bottom: 0.5em;}#sk-container-id-2 div.sk-estimator:hover {background-color: #d4ebff;}#sk-container-id-2 div.sk-parallel-item::after {content: \"\";width: 100%;border-bottom: 1px solid gray;flex-grow: 1;}#sk-container-id-2 div.sk-label:hover label.sk-toggleable__label {background-color: #d4ebff;}#sk-container-id-2 div.sk-serial::before {content: \"\";position: absolute;border-left: 1px solid gray;box-sizing: border-box;top: 0;bottom: 0;left: 50%;z-index: 0;}#sk-container-id-2 div.sk-serial {display: flex;flex-direction: column;align-items: center;background-color: white;padding-right: 0.2em;padding-left: 0.2em;position: relative;}#sk-container-id-2 div.sk-item {position: relative;z-index: 1;}#sk-container-id-2 div.sk-parallel {display: flex;align-items: stretch;justify-content: center;background-color: white;position: relative;}#sk-container-id-2 div.sk-item::before, #sk-container-id-2 div.sk-parallel-item::before {content: \"\";position: absolute;border-left: 1px solid gray;box-sizing: border-box;top: 0;bottom: 0;left: 50%;z-index: -1;}#sk-container-id-2 div.sk-parallel-item {display: flex;flex-direction: column;z-index: 1;position: relative;background-color: white;}#sk-container-id-2 div.sk-parallel-item:first-child::after {align-self: flex-end;width: 50%;}#sk-container-id-2 div.sk-parallel-item:last-child::after {align-self: flex-start;width: 50%;}#sk-container-id-2 div.sk-parallel-item:only-child::after {width: 0;}#sk-container-id-2 div.sk-dashed-wrapped {border: 1px dashed gray;margin: 0 0.4em 0.5em 0.4em;box-sizing: border-box;padding-bottom: 0.4em;background-color: white;}#sk-container-id-2 div.sk-label label {font-family: monospace;font-weight: bold;display: inline-block;line-height: 1.2em;}#sk-container-id-2 div.sk-label-container {text-align: center;}#sk-container-id-2 div.sk-container {/* jupyter's `normalize.less` sets `[hidden] { display: none; }` but bootstrap.min.css set `[hidden] { display: none !important; }` so we also need the `!important` here to be able to override the default hidden behavior on the sphinx rendered scikit-learn.org. See: https://github.com/scikit-learn/scikit-learn/issues/21755 */display: inline-block !important;position: relative;}#sk-container-id-2 div.sk-text-repr-fallback {display: none;}</style><div id=\"sk-container-id-2\" class=\"sk-top-container\"><div class=\"sk-text-repr-fallback\"><pre>RandomForestClassifier(random_state=42)</pre><b>In a Jupyter environment, please rerun this cell to show the HTML representation or trust the notebook. <br />On GitHub, the HTML representation is unable to render, please try loading this page with nbviewer.org.</b></div><div class=\"sk-container\" hidden><div class=\"sk-item\"><div class=\"sk-estimator sk-toggleable\"><input class=\"sk-toggleable__control sk-hidden--visually\" id=\"sk-estimator-id-2\" type=\"checkbox\" checked><label for=\"sk-estimator-id-2\" class=\"sk-toggleable__label sk-toggleable__label-arrow\">RandomForestClassifier</label><div class=\"sk-toggleable__content\"><pre>RandomForestClassifier(random_state=42)</pre></div></div></div></div></div>"
      ],
      "text/plain": [
       "RandomForestClassifier(random_state=42)"
      ]
     },
     "execution_count": 25,
     "metadata": {},
     "output_type": "execute_result"
    }
   ],
   "source": [
    "model = RandomForestClassifier(random_state=42)\n",
    "model.fit(X_train, y_train)\n"
   ]
  },
  {
   "cell_type": "markdown",
   "metadata": {},
   "source": [
    "#### Validación del modelo"
   ]
  },
  {
   "cell_type": "code",
   "execution_count": 27,
   "metadata": {},
   "outputs": [
    {
     "name": "stdout",
     "output_type": "stream",
     "text": [
      "[1 0 0 0 1]\n"
     ]
    }
   ],
   "source": [
    "y_pred = model.predict(X_test) # Predecimos con el modelo de Vecinos cercanos KNN\n",
    "#Muestro las 5 primeras predicciones\n",
    "print(y_pred[0:5]) "
   ]
  },
  {
   "cell_type": "code",
   "execution_count": 28,
   "metadata": {},
   "outputs": [
    {
     "name": "stdout",
     "output_type": "stream",
     "text": [
      "Bosques aleatorios precisión del set de entrenamiento: 0.9921259842519685\n",
      "Bosques aleatorios precisión del set de prueba: 0.7674418604651163\n"
     ]
    }
   ],
   "source": [
    "algoritmo = 'Bosques aleatorios'\n",
    "# Calculo score del modelo con el set de entrenamiento\n",
    "train_score = model.score(X_train, y_train) \n",
    "# Calculo score del modelo con el set de prueba\n",
    "test_score = model.score(X_test, y_test)\n",
    "\n",
    "print(\"{} precisión del set de entrenamiento: {}\".format(algoritmo, train_score))\n",
    "print(\"{} precisión del set de prueba: {}\".format(algoritmo, test_score))"
   ]
  },
  {
   "cell_type": "markdown",
   "metadata": {},
   "source": [
    "#### Matriz de confusión"
   ]
  },
  {
   "cell_type": "code",
   "execution_count": 29,
   "metadata": {},
   "outputs": [],
   "source": [
    "cm = confusion_matrix(y_test, y_pred)"
   ]
  },
  {
   "cell_type": "code",
   "execution_count": 30,
   "metadata": {},
   "outputs": [
    {
     "data": {
      "image/png": "[encoded data removed]",
      "text/plain": [
       "<Figure size 640x480 with 2 Axes>"
      ]
     },
     "metadata": {},
     "output_type": "display_data"
    }
   ],
   "source": [
    "from sklearn.metrics import ConfusionMatrixDisplay \n",
    "disp= ConfusionMatrixDisplay (confusion_matrix=cm)  \n",
    "disp.plot()  \n",
    "plt.show() "
   ]
  },
  {
   "cell_type": "markdown",
   "metadata": {},
   "source": [
    "### Predicción con usuario ficticio"
   ]
  },
  {
   "cell_type": "code",
   "execution_count": 32,
   "metadata": {},
   "outputs": [],
   "source": [
    "usuario_ficticio = pd.DataFrame({'duracion': [10],\n",
    "                              'paginas': [3],\n",
    "                              'acciones': [5],\n",
    "                              'valor': [9]})\n",
    "\n",
    "prediccion = model.predict(usuario_ficticio.values)\n"
   ]
  },
  {
   "cell_type": "code",
   "execution_count": 33,
   "metadata": {},
   "outputs": [
    {
     "name": "stdout",
     "output_type": "stream",
     "text": [
      "El usuario ficticio utiliza Windows.\n"
     ]
    }
   ],
   "source": [
    "if prediccion == 0:\n",
    "    print(\"El usuario ficticio utiliza Windows.\")\n",
    "elif prediccion == 1:\n",
    "    print(\"El usuario ficticio utiliza Macintosh.\")\n",
    "else:\n",
    "    print(\"El usuario ficticio utiliza Linux.\")\n"
   ]
  }
 ],
 "metadata": {
  "kernelspec": {
   "display_name": "Python 3",
   "language": "python",
   "name": "python3"
  },
  "language_info": {
   "codemirror_mode": {
    "name": "ipython",
    "version": 3
   },
   "file_extension": ".py",
   "mimetype": "text/x-python",
   "name": "python",
   "nbconvert_exporter": "python",
   "pygments_lexer": "ipython3",
   "version": "3.11.5"
  }
 },
 "nbformat": 4,
 "nbformat_minor": 2
}
