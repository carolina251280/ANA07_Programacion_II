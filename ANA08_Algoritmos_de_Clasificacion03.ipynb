{
 "cells": [
  {
   "cell_type": "code",
   "execution_count": 1,
   "metadata": {},
   "outputs": [],
   "source": [
    "import pandas as pd # Importamos Pandas con el alias de pd  (estandar) para el manejo de datos\n",
    "import numpy as np # Importamos Numpy con el alias de np (estandar) para algebra lineal\n",
    "\n",
    "\n",
    "# Algoritmos empleados\n",
    "# ==============================================================================\n",
    "import sklearn \n",
    "from sklearn import linear_model # Importamos el modelo de Regresión logistica\n",
    "from sklearn.neighbors import KNeighborsClassifier # Importamos el modelo de Vecinos cercanos KNN\n",
    "from sklearn import svm # Importamos el modelo de Maquinas de Soporte Vectorial SVM\n",
    "from sklearn.naive_bayes import GaussianNB # Importamos el modelo de Bayes ingenuo Naives Bayes\n",
    "\n",
    "\n",
    "from sklearn import model_selection # Importamos la libreria de validación de modelos\n",
    "from sklearn.metrics import classification_report # Importamos la libreria de reportes de clasificación\n",
    "from sklearn.model_selection import train_test_split\n",
    "from sklearn.ensemble import RandomForestClassifier\n",
    "from sklearn.metrics import confusion_matrix # Importamos la libreria de matriz de confusión\n",
    "from sklearn.metrics import accuracy_score # Importamos la libreria de precisión del modelo\n",
    "\n",
    "# Gráficos\n",
    "# ==============================================================================\n",
    "import matplotlib\n",
    "import matplotlib.pyplot as plt # Importamos la libreria de gráficos\n",
    "import seaborn as sns # Importamos la libreria de gráficos de seaborn\n",
    "%matplotlib inline "
   ]
  },
  {
   "cell_type": "markdown",
   "metadata": {},
   "source": [
    "### Carga de Datos "
   ]
  },
  {
   "cell_type": "code",
   "execution_count": 2,
   "metadata": {},
   "outputs": [
    {
     "data": {
      "text/html": [
       "<div>\n",
       "<style scoped>\n",
       "    .dataframe tbody tr th:only-of-type {\n",
       "        vertical-align: middle;\n",
       "    }\n",
       "\n",
       "    .dataframe tbody tr th {\n",
       "        vertical-align: top;\n",
       "    }\n",
       "\n",
       "    .dataframe thead th {\n",
       "        text-align: right;\n",
       "    }\n",
       "</style>\n",
       "<table border=\"1\" class=\"dataframe\">\n",
       "  <thead>\n",
       "    <tr style=\"text-align: right;\">\n",
       "      <th></th>\n",
       "      <th>Cliente</th>\n",
       "      <th>Monto Credito</th>\n",
       "      <th>Ingreso Neto</th>\n",
       "      <th>Coeficiente Credito</th>\n",
       "      <th>Monto Cuota</th>\n",
       "      <th>Grado Acad�mico</th>\n",
       "      <th>Buen Pagador</th>\n",
       "    </tr>\n",
       "  </thead>\n",
       "  <tbody>\n",
       "    <tr>\n",
       "      <th>0</th>\n",
       "      <td>1</td>\n",
       "      <td>2</td>\n",
       "      <td>4</td>\n",
       "      <td>3</td>\n",
       "      <td>1</td>\n",
       "      <td>4</td>\n",
       "      <td>1</td>\n",
       "    </tr>\n",
       "    <tr>\n",
       "      <th>1</th>\n",
       "      <td>2</td>\n",
       "      <td>2</td>\n",
       "      <td>3</td>\n",
       "      <td>2</td>\n",
       "      <td>1</td>\n",
       "      <td>4</td>\n",
       "      <td>1</td>\n",
       "    </tr>\n",
       "    <tr>\n",
       "      <th>2</th>\n",
       "      <td>3</td>\n",
       "      <td>4</td>\n",
       "      <td>1</td>\n",
       "      <td>1</td>\n",
       "      <td>4</td>\n",
       "      <td>2</td>\n",
       "      <td>2</td>\n",
       "    </tr>\n",
       "    <tr>\n",
       "      <th>3</th>\n",
       "      <td>4</td>\n",
       "      <td>1</td>\n",
       "      <td>4</td>\n",
       "      <td>3</td>\n",
       "      <td>1</td>\n",
       "      <td>4</td>\n",
       "      <td>1</td>\n",
       "    </tr>\n",
       "    <tr>\n",
       "      <th>4</th>\n",
       "      <td>5</td>\n",
       "      <td>3</td>\n",
       "      <td>3</td>\n",
       "      <td>1</td>\n",
       "      <td>3</td>\n",
       "      <td>2</td>\n",
       "      <td>2</td>\n",
       "    </tr>\n",
       "  </tbody>\n",
       "</table>\n",
       "</div>"
      ],
      "text/plain": [
       "   Cliente  Monto Credito  Ingreso Neto  Coeficiente Credito  Monto Cuota  \\\n",
       "0        1              2             4                    3            1   \n",
       "1        2              2             3                    2            1   \n",
       "2        3              4             1                    1            4   \n",
       "3        4              1             4                    3            1   \n",
       "4        5              3             3                    1            3   \n",
       "\n",
       "   Grado Acad�mico  Buen Pagador  \n",
       "0                4             1  \n",
       "1                4             1  \n",
       "2                2             2  \n",
       "3                4             1  \n",
       "4                2             2  "
      ]
     },
     "execution_count": 2,
     "metadata": {},
     "output_type": "execute_result"
    }
   ],
   "source": [
    "df = pd.read_csv(\"Clientes_Credito.csv\", sep=';')\n",
    "df.head()"
   ]
  },
  {
   "cell_type": "code",
   "execution_count": 3,
   "metadata": {},
   "outputs": [
    {
     "name": "stdout",
     "output_type": "stream",
     "text": [
      "<class 'pandas.core.frame.DataFrame'>\n",
      "RangeIndex: 15 entries, 0 to 14\n",
      "Data columns (total 7 columns):\n",
      " #   Column               Non-Null Count  Dtype\n",
      "---  ------               --------------  -----\n",
      " 0   Cliente              15 non-null     int64\n",
      " 1   Monto Credito        15 non-null     int64\n",
      " 2   Ingreso Neto         15 non-null     int64\n",
      " 3   Coeficiente Credito  15 non-null     int64\n",
      " 4   Monto Cuota          15 non-null     int64\n",
      " 5   Grado Acad�mico      15 non-null     int64\n",
      " 6   Buen Pagador         15 non-null     int64\n",
      "dtypes: int64(7)\n",
      "memory usage: 972.0 bytes\n"
     ]
    }
   ],
   "source": [
    "df.info()"
   ]
  },
  {
   "cell_type": "markdown",
   "metadata": {},
   "source": [
    "#### Estadísticas"
   ]
  },
  {
   "cell_type": "code",
   "execution_count": 4,
   "metadata": {},
   "outputs": [
    {
     "data": {
      "text/html": [
       "<div>\n",
       "<style scoped>\n",
       "    .dataframe tbody tr th:only-of-type {\n",
       "        vertical-align: middle;\n",
       "    }\n",
       "\n",
       "    .dataframe tbody tr th {\n",
       "        vertical-align: top;\n",
       "    }\n",
       "\n",
       "    .dataframe thead th {\n",
       "        text-align: right;\n",
       "    }\n",
       "</style>\n",
       "<table border=\"1\" class=\"dataframe\">\n",
       "  <thead>\n",
       "    <tr style=\"text-align: right;\">\n",
       "      <th></th>\n",
       "      <th>Cliente</th>\n",
       "      <th>Monto Credito</th>\n",
       "      <th>Ingreso Neto</th>\n",
       "      <th>Coeficiente Credito</th>\n",
       "      <th>Monto Cuota</th>\n",
       "      <th>Grado Acad�mico</th>\n",
       "      <th>Buen Pagador</th>\n",
       "    </tr>\n",
       "  </thead>\n",
       "  <tbody>\n",
       "    <tr>\n",
       "      <th>count</th>\n",
       "      <td>15.000000</td>\n",
       "      <td>15.000000</td>\n",
       "      <td>15.000000</td>\n",
       "      <td>15.000000</td>\n",
       "      <td>15.000000</td>\n",
       "      <td>15.000000</td>\n",
       "      <td>15.000000</td>\n",
       "    </tr>\n",
       "    <tr>\n",
       "      <th>mean</th>\n",
       "      <td>8.000000</td>\n",
       "      <td>2.400000</td>\n",
       "      <td>2.733333</td>\n",
       "      <td>2.533333</td>\n",
       "      <td>2.133333</td>\n",
       "      <td>2.466667</td>\n",
       "      <td>1.400000</td>\n",
       "    </tr>\n",
       "    <tr>\n",
       "      <th>std</th>\n",
       "      <td>4.472136</td>\n",
       "      <td>1.121224</td>\n",
       "      <td>1.032796</td>\n",
       "      <td>0.990430</td>\n",
       "      <td>0.990430</td>\n",
       "      <td>1.245946</td>\n",
       "      <td>0.507093</td>\n",
       "    </tr>\n",
       "    <tr>\n",
       "      <th>min</th>\n",
       "      <td>1.000000</td>\n",
       "      <td>1.000000</td>\n",
       "      <td>1.000000</td>\n",
       "      <td>1.000000</td>\n",
       "      <td>1.000000</td>\n",
       "      <td>1.000000</td>\n",
       "      <td>1.000000</td>\n",
       "    </tr>\n",
       "    <tr>\n",
       "      <th>25%</th>\n",
       "      <td>4.500000</td>\n",
       "      <td>1.500000</td>\n",
       "      <td>2.000000</td>\n",
       "      <td>2.000000</td>\n",
       "      <td>1.000000</td>\n",
       "      <td>1.500000</td>\n",
       "      <td>1.000000</td>\n",
       "    </tr>\n",
       "    <tr>\n",
       "      <th>50%</th>\n",
       "      <td>8.000000</td>\n",
       "      <td>2.000000</td>\n",
       "      <td>3.000000</td>\n",
       "      <td>3.000000</td>\n",
       "      <td>2.000000</td>\n",
       "      <td>2.000000</td>\n",
       "      <td>1.000000</td>\n",
       "    </tr>\n",
       "    <tr>\n",
       "      <th>75%</th>\n",
       "      <td>11.500000</td>\n",
       "      <td>3.000000</td>\n",
       "      <td>3.500000</td>\n",
       "      <td>3.000000</td>\n",
       "      <td>3.000000</td>\n",
       "      <td>4.000000</td>\n",
       "      <td>2.000000</td>\n",
       "    </tr>\n",
       "    <tr>\n",
       "      <th>max</th>\n",
       "      <td>15.000000</td>\n",
       "      <td>4.000000</td>\n",
       "      <td>4.000000</td>\n",
       "      <td>4.000000</td>\n",
       "      <td>4.000000</td>\n",
       "      <td>4.000000</td>\n",
       "      <td>2.000000</td>\n",
       "    </tr>\n",
       "  </tbody>\n",
       "</table>\n",
       "</div>"
      ],
      "text/plain": [
       "         Cliente  Monto Credito  Ingreso Neto  Coeficiente Credito  \\\n",
       "count  15.000000      15.000000     15.000000            15.000000   \n",
       "mean    8.000000       2.400000      2.733333             2.533333   \n",
       "std     4.472136       1.121224      1.032796             0.990430   \n",
       "min     1.000000       1.000000      1.000000             1.000000   \n",
       "25%     4.500000       1.500000      2.000000             2.000000   \n",
       "50%     8.000000       2.000000      3.000000             3.000000   \n",
       "75%    11.500000       3.000000      3.500000             3.000000   \n",
       "max    15.000000       4.000000      4.000000             4.000000   \n",
       "\n",
       "       Monto Cuota  Grado Acad�mico  Buen Pagador  \n",
       "count    15.000000        15.000000     15.000000  \n",
       "mean      2.133333         2.466667      1.400000  \n",
       "std       0.990430         1.245946      0.507093  \n",
       "min       1.000000         1.000000      1.000000  \n",
       "25%       1.000000         1.500000      1.000000  \n",
       "50%       2.000000         2.000000      1.000000  \n",
       "75%       3.000000         4.000000      2.000000  \n",
       "max       4.000000         4.000000      2.000000  "
      ]
     },
     "execution_count": 4,
     "metadata": {},
     "output_type": "execute_result"
    }
   ],
   "source": [
    "df.describe()"
   ]
  },
  {
   "cell_type": "markdown",
   "metadata": {},
   "source": [
    "#### Correlación entre variables"
   ]
  },
  {
   "cell_type": "code",
   "execution_count": 5,
   "metadata": {},
   "outputs": [
    {
     "data": {
      "text/html": [
       "<div>\n",
       "<style scoped>\n",
       "    .dataframe tbody tr th:only-of-type {\n",
       "        vertical-align: middle;\n",
       "    }\n",
       "\n",
       "    .dataframe tbody tr th {\n",
       "        vertical-align: top;\n",
       "    }\n",
       "\n",
       "    .dataframe thead th {\n",
       "        text-align: right;\n",
       "    }\n",
       "</style>\n",
       "<table border=\"1\" class=\"dataframe\">\n",
       "  <thead>\n",
       "    <tr style=\"text-align: right;\">\n",
       "      <th></th>\n",
       "      <th>Cliente</th>\n",
       "      <th>Monto Credito</th>\n",
       "      <th>Ingreso Neto</th>\n",
       "      <th>Coeficiente Credito</th>\n",
       "      <th>Monto Cuota</th>\n",
       "      <th>Grado Acad�mico</th>\n",
       "      <th>Buen Pagador</th>\n",
       "    </tr>\n",
       "  </thead>\n",
       "  <tbody>\n",
       "    <tr>\n",
       "      <th>Cliente</th>\n",
       "      <td>1.000000e+00</td>\n",
       "      <td>-0.341882</td>\n",
       "      <td>-0.262901</td>\n",
       "      <td>0.499913</td>\n",
       "      <td>0.209641</td>\n",
       "      <td>-0.666594</td>\n",
       "      <td>5.594998e-17</td>\n",
       "    </tr>\n",
       "    <tr>\n",
       "      <th>Monto Credito</th>\n",
       "      <td>-3.418817e-01</td>\n",
       "      <td>1.000000</td>\n",
       "      <td>-0.394771</td>\n",
       "      <td>-0.527436</td>\n",
       "      <td>0.463114</td>\n",
       "      <td>-0.194296</td>\n",
       "      <td>5.778967e-01</td>\n",
       "    </tr>\n",
       "    <tr>\n",
       "      <th>Ingreso Neto</th>\n",
       "      <td>-2.629006e-01</td>\n",
       "      <td>-0.394771</td>\n",
       "      <td>1.000000</td>\n",
       "      <td>0.288625</td>\n",
       "      <td>-0.730873</td>\n",
       "      <td>0.658699</td>\n",
       "      <td>-4.637130e-01</td>\n",
       "    </tr>\n",
       "    <tr>\n",
       "      <th>Coeficiente Credito</th>\n",
       "      <td>4.999133e-01</td>\n",
       "      <td>-0.527436</td>\n",
       "      <td>0.288625</td>\n",
       "      <td>1.000000</td>\n",
       "      <td>-0.368932</td>\n",
       "      <td>-0.042447</td>\n",
       "      <td>-3.128841e-01</td>\n",
       "    </tr>\n",
       "    <tr>\n",
       "      <th>Monto Cuota</th>\n",
       "      <td>2.096411e-01</td>\n",
       "      <td>0.463114</td>\n",
       "      <td>-0.730873</td>\n",
       "      <td>-0.368932</td>\n",
       "      <td>1.000000</td>\n",
       "      <td>-0.632851</td>\n",
       "      <td>8.817642e-01</td>\n",
       "    </tr>\n",
       "    <tr>\n",
       "      <th>Grado Acad�mico</th>\n",
       "      <td>-6.665936e-01</td>\n",
       "      <td>-0.194296</td>\n",
       "      <td>0.658699</td>\n",
       "      <td>-0.042447</td>\n",
       "      <td>-0.632851</td>\n",
       "      <td>1.000000</td>\n",
       "      <td>-4.296049e-01</td>\n",
       "    </tr>\n",
       "    <tr>\n",
       "      <th>Buen Pagador</th>\n",
       "      <td>5.594998e-17</td>\n",
       "      <td>0.577897</td>\n",
       "      <td>-0.463713</td>\n",
       "      <td>-0.312884</td>\n",
       "      <td>0.881764</td>\n",
       "      <td>-0.429605</td>\n",
       "      <td>1.000000e+00</td>\n",
       "    </tr>\n",
       "  </tbody>\n",
       "</table>\n",
       "</div>"
      ],
      "text/plain": [
       "                          Cliente  Monto Credito  Ingreso Neto  \\\n",
       "Cliente              1.000000e+00      -0.341882     -0.262901   \n",
       "Monto Credito       -3.418817e-01       1.000000     -0.394771   \n",
       "Ingreso Neto        -2.629006e-01      -0.394771      1.000000   \n",
       "Coeficiente Credito  4.999133e-01      -0.527436      0.288625   \n",
       "Monto Cuota          2.096411e-01       0.463114     -0.730873   \n",
       "Grado Acad�mico     -6.665936e-01      -0.194296      0.658699   \n",
       "Buen Pagador         5.594998e-17       0.577897     -0.463713   \n",
       "\n",
       "                     Coeficiente Credito  Monto Cuota  Grado Acad�mico  \\\n",
       "Cliente                         0.499913     0.209641        -0.666594   \n",
       "Monto Credito                  -0.527436     0.463114        -0.194296   \n",
       "Ingreso Neto                    0.288625    -0.730873         0.658699   \n",
       "Coeficiente Credito             1.000000    -0.368932        -0.042447   \n",
       "Monto Cuota                    -0.368932     1.000000        -0.632851   \n",
       "Grado Acad�mico                -0.042447    -0.632851         1.000000   \n",
       "Buen Pagador                   -0.312884     0.881764        -0.429605   \n",
       "\n",
       "                     Buen Pagador  \n",
       "Cliente              5.594998e-17  \n",
       "Monto Credito        5.778967e-01  \n",
       "Ingreso Neto        -4.637130e-01  \n",
       "Coeficiente Credito -3.128841e-01  \n",
       "Monto Cuota          8.817642e-01  \n",
       "Grado Acad�mico     -4.296049e-01  \n",
       "Buen Pagador         1.000000e+00  "
      ]
     },
     "execution_count": 5,
     "metadata": {},
     "output_type": "execute_result"
    }
   ],
   "source": [
    "corr_matrix = df.corr(method='pearson') # Calculamos la matriz de correlación de Pearson\n",
    "corr_matrix"
   ]
  },
  {
   "cell_type": "code",
   "execution_count": 6,
   "metadata": {},
   "outputs": [
    {
     "name": "stderr",
     "output_type": "stream",
     "text": [
      "c:\\Users\\carol\\AppData\\Local\\Programs\\Python\\Python311\\Lib\\site-packages\\seaborn\\utils.py:80: UserWarning: Glyph 65533 (\\N{REPLACEMENT CHARACTER}) missing from current font.\n",
      "  fig.canvas.draw()\n",
      "C:\\Users\\carol\\AppData\\Roaming\\Python\\Python311\\site-packages\\IPython\\core\\pylabtools.py:152: UserWarning: Glyph 65533 (\\N{REPLACEMENT CHARACTER}) missing from current font.\n",
      "  fig.canvas.print_figure(bytes_io, **kw)\n"
     ]
    },
    {
     "data": {
      "image/png": "[encoded data removed]",
      "text/plain": [
       "<Figure size 640x480 with 1 Axes>"
      ]
     },
     "metadata": {},
     "output_type": "display_data"
    }
   ],
   "source": [
    "sns.set(font_scale=1.5) # Establecer el tamaño de la fuente\n",
    "sns.heatmap(\n",
    "    corr_matrix, xticklabels='auto', yticklabels='auto', cmap='coolwarm', annot=True, fmt='.2f', # Crear mapa de calor\n",
    "    cbar=False, # No mostrar barra de color\n",
    "    square=True, # Ajustar celdas a cuadradas\n",
    "    annot_kws={'size': 7}, # Tamaño de los valores\n",
    "    linewidth=.5, # Ancho de las líneas entre celdas\n",
    ")\n",
    "\n",
    "plt.show() "
   ]
  },
  {
   "cell_type": "code",
   "execution_count": 7,
   "metadata": {},
   "outputs": [
    {
     "data": {
      "text/html": [
       "<div>\n",
       "<style scoped>\n",
       "    .dataframe tbody tr th:only-of-type {\n",
       "        vertical-align: middle;\n",
       "    }\n",
       "\n",
       "    .dataframe tbody tr th {\n",
       "        vertical-align: top;\n",
       "    }\n",
       "\n",
       "    .dataframe thead th {\n",
       "        text-align: right;\n",
       "    }\n",
       "</style>\n",
       "<table border=\"1\" class=\"dataframe\">\n",
       "  <thead>\n",
       "    <tr style=\"text-align: right;\">\n",
       "      <th></th>\n",
       "      <th>Cliente</th>\n",
       "      <th>Monto Credito</th>\n",
       "      <th>Ingreso Neto</th>\n",
       "      <th>Coeficiente Credito</th>\n",
       "      <th>Monto Cuota</th>\n",
       "      <th>Grado Acad�mico</th>\n",
       "      <th>Buen Pagador</th>\n",
       "    </tr>\n",
       "  </thead>\n",
       "  <tbody>\n",
       "    <tr>\n",
       "      <th>0</th>\n",
       "      <td>1</td>\n",
       "      <td>2</td>\n",
       "      <td>4</td>\n",
       "      <td>3</td>\n",
       "      <td>1</td>\n",
       "      <td>4</td>\n",
       "      <td>1</td>\n",
       "    </tr>\n",
       "    <tr>\n",
       "      <th>1</th>\n",
       "      <td>2</td>\n",
       "      <td>2</td>\n",
       "      <td>3</td>\n",
       "      <td>2</td>\n",
       "      <td>1</td>\n",
       "      <td>4</td>\n",
       "      <td>1</td>\n",
       "    </tr>\n",
       "    <tr>\n",
       "      <th>2</th>\n",
       "      <td>3</td>\n",
       "      <td>4</td>\n",
       "      <td>1</td>\n",
       "      <td>1</td>\n",
       "      <td>4</td>\n",
       "      <td>2</td>\n",
       "      <td>2</td>\n",
       "    </tr>\n",
       "    <tr>\n",
       "      <th>3</th>\n",
       "      <td>4</td>\n",
       "      <td>1</td>\n",
       "      <td>4</td>\n",
       "      <td>3</td>\n",
       "      <td>1</td>\n",
       "      <td>4</td>\n",
       "      <td>1</td>\n",
       "    </tr>\n",
       "    <tr>\n",
       "      <th>4</th>\n",
       "      <td>5</td>\n",
       "      <td>3</td>\n",
       "      <td>3</td>\n",
       "      <td>1</td>\n",
       "      <td>3</td>\n",
       "      <td>2</td>\n",
       "      <td>2</td>\n",
       "    </tr>\n",
       "    <tr>\n",
       "      <th>5</th>\n",
       "      <td>6</td>\n",
       "      <td>3</td>\n",
       "      <td>4</td>\n",
       "      <td>3</td>\n",
       "      <td>1</td>\n",
       "      <td>4</td>\n",
       "      <td>1</td>\n",
       "    </tr>\n",
       "    <tr>\n",
       "      <th>6</th>\n",
       "      <td>7</td>\n",
       "      <td>4</td>\n",
       "      <td>2</td>\n",
       "      <td>1</td>\n",
       "      <td>3</td>\n",
       "      <td>2</td>\n",
       "      <td>2</td>\n",
       "    </tr>\n",
       "    <tr>\n",
       "      <th>7</th>\n",
       "      <td>8</td>\n",
       "      <td>4</td>\n",
       "      <td>1</td>\n",
       "      <td>3</td>\n",
       "      <td>3</td>\n",
       "      <td>2</td>\n",
       "      <td>2</td>\n",
       "    </tr>\n",
       "    <tr>\n",
       "      <th>8</th>\n",
       "      <td>9</td>\n",
       "      <td>3</td>\n",
       "      <td>4</td>\n",
       "      <td>3</td>\n",
       "      <td>1</td>\n",
       "      <td>3</td>\n",
       "      <td>1</td>\n",
       "    </tr>\n",
       "    <tr>\n",
       "      <th>9</th>\n",
       "      <td>10</td>\n",
       "      <td>1</td>\n",
       "      <td>3</td>\n",
       "      <td>2</td>\n",
       "      <td>2</td>\n",
       "      <td>4</td>\n",
       "      <td>1</td>\n",
       "    </tr>\n",
       "    <tr>\n",
       "      <th>10</th>\n",
       "      <td>11</td>\n",
       "      <td>3</td>\n",
       "      <td>3</td>\n",
       "      <td>3</td>\n",
       "      <td>3</td>\n",
       "      <td>1</td>\n",
       "      <td>2</td>\n",
       "    </tr>\n",
       "    <tr>\n",
       "      <th>11</th>\n",
       "      <td>12</td>\n",
       "      <td>2</td>\n",
       "      <td>2</td>\n",
       "      <td>2</td>\n",
       "      <td>2</td>\n",
       "      <td>1</td>\n",
       "      <td>1</td>\n",
       "    </tr>\n",
       "    <tr>\n",
       "      <th>12</th>\n",
       "      <td>13</td>\n",
       "      <td>2</td>\n",
       "      <td>2</td>\n",
       "      <td>3</td>\n",
       "      <td>2</td>\n",
       "      <td>1</td>\n",
       "      <td>1</td>\n",
       "    </tr>\n",
       "    <tr>\n",
       "      <th>13</th>\n",
       "      <td>14</td>\n",
       "      <td>1</td>\n",
       "      <td>3</td>\n",
       "      <td>4</td>\n",
       "      <td>3</td>\n",
       "      <td>2</td>\n",
       "      <td>2</td>\n",
       "    </tr>\n",
       "    <tr>\n",
       "      <th>14</th>\n",
       "      <td>15</td>\n",
       "      <td>1</td>\n",
       "      <td>2</td>\n",
       "      <td>4</td>\n",
       "      <td>2</td>\n",
       "      <td>1</td>\n",
       "      <td>1</td>\n",
       "    </tr>\n",
       "  </tbody>\n",
       "</table>\n",
       "</div>"
      ],
      "text/plain": [
       "    Cliente  Monto Credito  Ingreso Neto  Coeficiente Credito  Monto Cuota  \\\n",
       "0         1              2             4                    3            1   \n",
       "1         2              2             3                    2            1   \n",
       "2         3              4             1                    1            4   \n",
       "3         4              1             4                    3            1   \n",
       "4         5              3             3                    1            3   \n",
       "5         6              3             4                    3            1   \n",
       "6         7              4             2                    1            3   \n",
       "7         8              4             1                    3            3   \n",
       "8         9              3             4                    3            1   \n",
       "9        10              1             3                    2            2   \n",
       "10       11              3             3                    3            3   \n",
       "11       12              2             2                    2            2   \n",
       "12       13              2             2                    3            2   \n",
       "13       14              1             3                    4            3   \n",
       "14       15              1             2                    4            2   \n",
       "\n",
       "    Grado Acad�mico  Buen Pagador  \n",
       "0                 4             1  \n",
       "1                 4             1  \n",
       "2                 2             2  \n",
       "3                 4             1  \n",
       "4                 2             2  \n",
       "5                 4             1  \n",
       "6                 2             2  \n",
       "7                 2             2  \n",
       "8                 3             1  \n",
       "9                 4             1  \n",
       "10                1             2  \n",
       "11                1             1  \n",
       "12                1             1  \n",
       "13                2             2  \n",
       "14                1             1  "
      ]
     },
     "execution_count": 7,
     "metadata": {},
     "output_type": "execute_result"
    }
   ],
   "source": [
    "df"
   ]
  },
  {
   "cell_type": "markdown",
   "metadata": {},
   "source": [
    "#### División entrenamiento-test"
   ]
  },
  {
   "cell_type": "code",
   "execution_count": 9,
   "metadata": {},
   "outputs": [],
   "source": [
    "X = df[['Monto Credito', 'Ingreso Neto', 'Coeficiente Credito', 'Monto Cuota']]\n",
    "y = df['Buen Pagador']"
   ]
  },
  {
   "cell_type": "code",
   "execution_count": 10,
   "metadata": {},
   "outputs": [
    {
     "name": "stdout",
     "output_type": "stream",
     "text": [
      "Variables independientes:     Monto Credito  Ingreso Neto  Coeficiente Credito  Monto Cuota\n",
      "0               2             4                    3            1\n",
      "1               2             3                    2            1\n",
      "2               4             1                    1            4\n",
      "3               1             4                    3            1\n",
      "4               3             3                    1            3\n",
      "5               3             4                    3            1\n",
      "6               4             2                    1            3\n",
      "7               4             1                    3            3\n",
      "8               3             4                    3            1\n",
      "9               1             3                    2            2\n",
      "10              3             3                    3            3\n",
      "11              2             2                    2            2\n",
      "12              2             2                    3            2\n",
      "13              1             3                    4            3\n",
      "14              1             2                    4            2\n",
      "\n",
      "Variable dependiente: 0     1\n",
      "1     1\n",
      "2     2\n",
      "3     1\n",
      "4     2\n",
      "5     1\n",
      "6     2\n",
      "7     2\n",
      "8     1\n",
      "9     1\n",
      "10    2\n",
      "11    1\n",
      "12    1\n",
      "13    2\n",
      "14    1\n",
      "Name: Buen Pagador, dtype: int64\n"
     ]
    }
   ],
   "source": [
    "print(\"Variables independientes:\", X) \n",
    "print(\"\\nVariable dependiente:\", y)"
   ]
  },
  {
   "cell_type": "code",
   "execution_count": 11,
   "metadata": {},
   "outputs": [],
   "source": [
    "from sklearn.model_selection import train_test_split \n",
    "X_train, X_test, y_train, y_test = train_test_split(X, y, test_size = 0.25, random_state = 0) "
   ]
  },
  {
   "cell_type": "code",
   "execution_count": 12,
   "metadata": {},
   "outputs": [],
   "source": [
    "from sklearn.preprocessing import StandardScaler # Importamos la libreria de escalado de características\n",
    "sc = StandardScaler() # Creamos el objeto de escalado\n",
    "X_train = sc.fit_transform(X_train) # Escalamos las características de entrenamiento\n",
    "X_test = sc.transform(X_test)"
   ]
  },
  {
   "cell_type": "code",
   "execution_count": 13,
   "metadata": {},
   "outputs": [
    {
     "name": "stdout",
     "output_type": "stream",
     "text": [
      "\n",
      "X Entrenamiento: [[-1.2768848  -0.59587957  1.32287566 -0.28347335]\n",
      " [ 0.59587957  0.34050261 -1.79533125  0.75592895]\n",
      " [ 1.53226176 -1.53226176 -1.79533125  1.79533125]\n",
      " [-1.2768848   0.34050261  1.32287566  0.75592895]\n",
      " [ 0.59587957  0.34050261  0.28347335  0.75592895]\n",
      " [ 1.53226176 -1.53226176  0.28347335  0.75592895]\n",
      " [-0.34050261 -0.59587957 -0.75592895 -0.28347335]\n",
      " [-1.2768848   1.2768848   0.28347335 -1.32287566]\n",
      " [-0.34050261  1.2768848   0.28347335 -1.32287566]\n",
      " [ 0.59587957  1.2768848   0.28347335 -1.32287566]\n",
      " [-0.34050261 -0.59587957  0.28347335 -0.28347335]]\n",
      "\n",
      "y test: 1    1\n",
      "6    2\n",
      "8    1\n",
      "9    1\n",
      "Name: Buen Pagador, dtype: int64\n"
     ]
    }
   ],
   "source": [
    "print(\"\\nX Entrenamiento:\",X_train) \n",
    "print(\"\\ny test:\",y_test)"
   ]
  },
  {
   "cell_type": "markdown",
   "metadata": {},
   "source": [
    "### Máquinas de Soporte Vectorial (SVM)"
   ]
  },
  {
   "cell_type": "code",
   "execution_count": 14,
   "metadata": {},
   "outputs": [],
   "source": [
    "modelo_svc = svm.SVC(kernel=\"linear\")"
   ]
  },
  {
   "cell_type": "code",
   "execution_count": 15,
   "metadata": {},
   "outputs": [
    {
     "data": {
      "text/html": [
       "<style>#sk-container-id-1 {color: black;}#sk-container-id-1 pre{padding: 0;}#sk-container-id-1 div.sk-toggleable {background-color: white;}#sk-container-id-1 label.sk-toggleable__label {cursor: pointer;display: block;width: 100%;margin-bottom: 0;padding: 0.3em;box-sizing: border-box;text-align: center;}#sk-container-id-1 label.sk-toggleable__label-arrow:before {content: \"▸\";float: left;margin-right: 0.25em;color: #696969;}#sk-container-id-1 label.sk-toggleable__label-arrow:hover:before {color: black;}#sk-container-id-1 div.sk-estimator:hover label.sk-toggleable__label-arrow:before {color: black;}#sk-container-id-1 div.sk-toggleable__content {max-height: 0;max-width: 0;overflow: hidden;text-align: left;background-color: #f0f8ff;}#sk-container-id-1 div.sk-toggleable__content pre {margin: 0.2em;color: black;border-radius: 0.25em;background-color: #f0f8ff;}#sk-container-id-1 input.sk-toggleable__control:checked~div.sk-toggleable__content {max-height: 200px;max-width: 100%;overflow: auto;}#sk-container-id-1 input.sk-toggleable__control:checked~label.sk-toggleable__label-arrow:before {content: \"▾\";}#sk-container-id-1 div.sk-estimator input.sk-toggleable__control:checked~label.sk-toggleable__label {background-color: #d4ebff;}#sk-container-id-1 div.sk-label input.sk-toggleable__control:checked~label.sk-toggleable__label {background-color: #d4ebff;}#sk-container-id-1 input.sk-hidden--visually {border: 0;clip: rect(1px 1px 1px 1px);clip: rect(1px, 1px, 1px, 1px);height: 1px;margin: -1px;overflow: hidden;padding: 0;position: absolute;width: 1px;}#sk-container-id-1 div.sk-estimator {font-family: monospace;background-color: #f0f8ff;border: 1px dotted black;border-radius: 0.25em;box-sizing: border-box;margin-bottom: 0.5em;}#sk-container-id-1 div.sk-estimator:hover {background-color: #d4ebff;}#sk-container-id-1 div.sk-parallel-item::after {content: \"\";width: 100%;border-bottom: 1px solid gray;flex-grow: 1;}#sk-container-id-1 div.sk-label:hover label.sk-toggleable__label {background-color: #d4ebff;}#sk-container-id-1 div.sk-serial::before {content: \"\";position: absolute;border-left: 1px solid gray;box-sizing: border-box;top: 0;bottom: 0;left: 50%;z-index: 0;}#sk-container-id-1 div.sk-serial {display: flex;flex-direction: column;align-items: center;background-color: white;padding-right: 0.2em;padding-left: 0.2em;position: relative;}#sk-container-id-1 div.sk-item {position: relative;z-index: 1;}#sk-container-id-1 div.sk-parallel {display: flex;align-items: stretch;justify-content: center;background-color: white;position: relative;}#sk-container-id-1 div.sk-item::before, #sk-container-id-1 div.sk-parallel-item::before {content: \"\";position: absolute;border-left: 1px solid gray;box-sizing: border-box;top: 0;bottom: 0;left: 50%;z-index: -1;}#sk-container-id-1 div.sk-parallel-item {display: flex;flex-direction: column;z-index: 1;position: relative;background-color: white;}#sk-container-id-1 div.sk-parallel-item:first-child::after {align-self: flex-end;width: 50%;}#sk-container-id-1 div.sk-parallel-item:last-child::after {align-self: flex-start;width: 50%;}#sk-container-id-1 div.sk-parallel-item:only-child::after {width: 0;}#sk-container-id-1 div.sk-dashed-wrapped {border: 1px dashed gray;margin: 0 0.4em 0.5em 0.4em;box-sizing: border-box;padding-bottom: 0.4em;background-color: white;}#sk-container-id-1 div.sk-label label {font-family: monospace;font-weight: bold;display: inline-block;line-height: 1.2em;}#sk-container-id-1 div.sk-label-container {text-align: center;}#sk-container-id-1 div.sk-container {/* jupyter's `normalize.less` sets `[hidden] { display: none; }` but bootstrap.min.css set `[hidden] { display: none !important; }` so we also need the `!important` here to be able to override the default hidden behavior on the sphinx rendered scikit-learn.org. See: https://github.com/scikit-learn/scikit-learn/issues/21755 */display: inline-block !important;position: relative;}#sk-container-id-1 div.sk-text-repr-fallback {display: none;}</style><div id=\"sk-container-id-1\" class=\"sk-top-container\"><div class=\"sk-text-repr-fallback\"><pre>SVC(kernel=&#x27;linear&#x27;)</pre><b>In a Jupyter environment, please rerun this cell to show the HTML representation or trust the notebook. <br />On GitHub, the HTML representation is unable to render, please try loading this page with nbviewer.org.</b></div><div class=\"sk-container\" hidden><div class=\"sk-item\"><div class=\"sk-estimator sk-toggleable\"><input class=\"sk-toggleable__control sk-hidden--visually\" id=\"sk-estimator-id-1\" type=\"checkbox\" checked><label for=\"sk-estimator-id-1\" class=\"sk-toggleable__label sk-toggleable__label-arrow\">SVC</label><div class=\"sk-toggleable__content\"><pre>SVC(kernel=&#x27;linear&#x27;)</pre></div></div></div></div></div>"
      ],
      "text/plain": [
       "SVC(kernel='linear')"
      ]
     },
     "execution_count": 15,
     "metadata": {},
     "output_type": "execute_result"
    }
   ],
   "source": [
    "modelo_svc.fit(X_train, y_train)"
   ]
  },
  {
   "cell_type": "markdown",
   "metadata": {},
   "source": [
    "#### Validación del modelo"
   ]
  },
  {
   "cell_type": "code",
   "execution_count": 16,
   "metadata": {},
   "outputs": [
    {
     "name": "stdout",
     "output_type": "stream",
     "text": [
      "[1 2 1 1]\n"
     ]
    }
   ],
   "source": [
    "y_pred = modelo_svc.predict(X_test) # Predecimos con el modelo de Maquinas de Soporte Vectorial SVM\n",
    "#Muestro las 5 primeras predicciones\n",
    "print(y_pred[0:5])"
   ]
  },
  {
   "cell_type": "code",
   "execution_count": 17,
   "metadata": {},
   "outputs": [
    {
     "name": "stdout",
     "output_type": "stream",
     "text": [
      "Máquinas de Soporte Vectorial (SVM) precisión del set de entrenamiento: 1.0\n",
      "Máquinas de Soporte Vectorial (SVM) precisión del set de prueba: 1.0\n"
     ]
    }
   ],
   "source": [
    "algoritmo = 'Máquinas de Soporte Vectorial (SVM)'\n",
    "# Calculo score del modelo con el set de entrenamiento\n",
    "train_score = modelo_svc.score(X_train, y_train)\n",
    "# Calculo score del modelo con el set de prueba\n",
    "test_score = modelo_svc.score(X_test, y_test)\n",
    "\n",
    "print(\"{} precisión del set de entrenamiento: {}\".format(algoritmo, train_score))\n",
    "print(\"{} precisión del set de prueba: {}\".format(algoritmo, test_score))"
   ]
  },
  {
   "cell_type": "markdown",
   "metadata": {},
   "source": [
    "### Matriz de confusión"
   ]
  },
  {
   "cell_type": "code",
   "execution_count": 18,
   "metadata": {},
   "outputs": [],
   "source": [
    "cm = confusion_matrix(y_test, y_pred)"
   ]
  },
  {
   "cell_type": "code",
   "execution_count": 19,
   "metadata": {},
   "outputs": [
    {
     "data": {
      "image/png": "[encoded data removed]",
      "text/plain": [
       "<Figure size 640x480 with 2 Axes>"
      ]
     },
     "metadata": {},
     "output_type": "display_data"
    }
   ],
   "source": [
    "from sklearn.metrics import ConfusionMatrixDisplay # Importamos la libreria de visualización de matriz de confusión\n",
    "disp= ConfusionMatrixDisplay (confusion_matrix=cm)  # Creamos el objeto de visualización de matriz de confusión\n",
    "disp.plot() # Mostramos la matriz de confusión\n",
    "plt.show() # Mostramos el gráfico"
   ]
  },
  {
   "cell_type": "markdown",
   "metadata": {},
   "source": [
    "### Predicción con usuarios ficticios"
   ]
  },
  {
   "cell_type": "code",
   "execution_count": 25,
   "metadata": {},
   "outputs": [
    {
     "name": "stderr",
     "output_type": "stream",
     "text": [
      "c:\\Users\\carol\\AppData\\Local\\Programs\\Python\\Python311\\Lib\\site-packages\\sklearn\\base.py:457: UserWarning: X has feature names, but SVC was fitted without feature names\n",
      "  warnings.warn(\n"
     ]
    }
   ],
   "source": [
    "clientes_ficticios = pd.DataFrame({'Monto Credito': [4, 1, 3, 4, 3, 1, 3],\n",
    "                                  'Ingreso Neto': [4, 4, 2, 1, 4, 3, 3],\n",
    "                                  'Coeficiente Credito': [2, 3, 3, 3, 3, 2, 3],\n",
    "                                  'Monto Cuota': [3, 4, 2, 2, 3, 4, 1]})\n",
    "\n",
    "predicciones = modelo_svc.predict(clientes_ficticios)"
   ]
  },
  {
   "cell_type": "code",
   "execution_count": 27,
   "metadata": {},
   "outputs": [
    {
     "name": "stdout",
     "output_type": "stream",
     "text": [
      "El cliente 100: No es un buen pagador\n",
      "El cliente 101: No es un buen pagador\n",
      "El cliente 102: No es un buen pagador\n",
      "El cliente 103: No es un buen pagador\n",
      "El cliente 104: No es un buen pagador\n",
      "El cliente 105: No es un buen pagador\n",
      "El cliente 106: No es un buen pagador\n"
     ]
    }
   ],
   "source": [
    "for num, prediccion in enumerate(predicciones):\n",
    "    if prediccion == 1:\n",
    "        print(f\"El cliente {num+100}: Buen pagador\")\n",
    "    else:\n",
    "        print(f\"El cliente {num+100}: No es un buen pagador\")"
   ]
  }
 ],
 "metadata": {
  "kernelspec": {
   "display_name": "Python 3",
   "language": "python",
   "name": "python3"
  },
  "language_info": {
   "codemirror_mode": {
    "name": "ipython",
    "version": 3
   },
   "file_extension": ".py",
   "mimetype": "text/x-python",
   "name": "python",
   "nbconvert_exporter": "python",
   "pygments_lexer": "ipython3",
   "version": "3.11.5"
  }
 },
 "nbformat": 4,
 "nbformat_minor": 2
}
